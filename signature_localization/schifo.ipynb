{
 "cells": [
  {
   "cell_type": "code",
   "execution_count": null,
   "metadata": {
    "vscode": {
     "languageId": "plaintext"
    }
   },
   "outputs": [],
   "source": [
    "from dataset_downloader import download_dataset\n",
    "from crop_signatures import crop_signatures\n",
    "from resize_signatures import resize_signatures\n",
    "from create_nonsig_dataset import create_nonsig_dataset\n",
    "import binary_classifier_CNN\n",
    "import find_signatures\n",
    "from pretrained import train\n",
    "\n",
    "def create_data():\n",
    "    download_dataset()\n",
    "    crop_signatures()\n",
    "    resize_signatures()\n",
    "    create_nonsig_dataset()\n",
    "\n",
    "def main():\n",
    "    create_data() # (!TODO checker to verify if already created) For now, just comment this line if already done.\n",
    "    train() #!TODO builds and trains a binary classifier (CNN based). For now, comment this line if already trained.\n",
    "    find_signatures.detect_signatures()\n",
    "\n",
    "if __name__ == \"__main__\":\n",
    "    main()\n"
   ]
  }
 ],
 "metadata": {
  "language_info": {
   "name": "python"
  }
 },
 "nbformat": 4,
 "nbformat_minor": 2
}
